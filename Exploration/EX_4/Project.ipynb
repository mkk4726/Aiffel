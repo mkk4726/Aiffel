{
 "cells": [
  {
   "cell_type": "markdown",
   "id": "3701b15e",
   "metadata": {},
   "source": [
    "# 1. 데이터 준비하기"
   ]
  },
  {
   "cell_type": "code",
   "execution_count": 129,
   "id": "df039787",
   "metadata": {},
   "outputs": [
    {
     "name": "stdout",
     "output_type": "stream",
     "text": [
      "1.3.3\n",
      "0.5.2\n",
      "4.1.2\n"
     ]
    }
   ],
   "source": [
    "import pandas\n",
    "import konlpy\n",
    "import gensim\n",
    "from gensim.models import KeyedVectors\n",
    "\n",
    "print(pandas.__version__)\n",
    "print(konlpy.__version__)\n",
    "print(gensim.__version__)\n",
    "\n",
    "import os\n",
    "import pandas as pd\n",
    "\n",
    "from konlpy.tag import Mecab\n",
    "import numpy as np\n",
    "from collections import Counter\n",
    "\n",
    "import tensorflow as tf\n",
    "from sklearn.model_selection import train_test_split\n",
    "from tqdm import tqdm\n",
    "import matplotlib.pyplot as plt"
   ]
  },
  {
   "cell_type": "code",
   "execution_count": 2,
   "id": "b17a134b",
   "metadata": {},
   "outputs": [
    {
     "data": {
      "text/plain": [
       "['ratings_train.txt',\n",
       " 'ratings_test.txt',\n",
       " 'GoogleNews-vectors-negative300.bin.gz',\n",
       " 'word2vec.txt']"
      ]
     },
     "execution_count": 2,
     "metadata": {},
     "output_type": "execute_result"
    }
   ],
   "source": [
    "data_path = '/aiffel/aiffel/sentiment_classification/data/'\n",
    "\n",
    "os.listdir(data_path)"
   ]
  },
  {
   "cell_type": "code",
   "execution_count": 3,
   "id": "efdc01e8",
   "metadata": {},
   "outputs": [
    {
     "data": {
      "text/html": [
       "<div>\n",
       "<style scoped>\n",
       "    .dataframe tbody tr th:only-of-type {\n",
       "        vertical-align: middle;\n",
       "    }\n",
       "\n",
       "    .dataframe tbody tr th {\n",
       "        vertical-align: top;\n",
       "    }\n",
       "\n",
       "    .dataframe thead th {\n",
       "        text-align: right;\n",
       "    }\n",
       "</style>\n",
       "<table border=\"1\" class=\"dataframe\">\n",
       "  <thead>\n",
       "    <tr style=\"text-align: right;\">\n",
       "      <th></th>\n",
       "      <th>id</th>\n",
       "      <th>document</th>\n",
       "      <th>label</th>\n",
       "    </tr>\n",
       "  </thead>\n",
       "  <tbody>\n",
       "    <tr>\n",
       "      <th>0</th>\n",
       "      <td>9976970</td>\n",
       "      <td>아 더빙.. 진짜 짜증나네요 목소리</td>\n",
       "      <td>0</td>\n",
       "    </tr>\n",
       "    <tr>\n",
       "      <th>1</th>\n",
       "      <td>3819312</td>\n",
       "      <td>흠...포스터보고 초딩영화줄....오버연기조차 가볍지 않구나</td>\n",
       "      <td>1</td>\n",
       "    </tr>\n",
       "    <tr>\n",
       "      <th>2</th>\n",
       "      <td>10265843</td>\n",
       "      <td>너무재밓었다그래서보는것을추천한다</td>\n",
       "      <td>0</td>\n",
       "    </tr>\n",
       "    <tr>\n",
       "      <th>3</th>\n",
       "      <td>9045019</td>\n",
       "      <td>교도소 이야기구먼 ..솔직히 재미는 없다..평점 조정</td>\n",
       "      <td>0</td>\n",
       "    </tr>\n",
       "    <tr>\n",
       "      <th>4</th>\n",
       "      <td>6483659</td>\n",
       "      <td>사이몬페그의 익살스런 연기가 돋보였던 영화!스파이더맨에서 늙어보이기만 했던 커스틴 ...</td>\n",
       "      <td>1</td>\n",
       "    </tr>\n",
       "  </tbody>\n",
       "</table>\n",
       "</div>"
      ],
      "text/plain": [
       "         id                                           document  label\n",
       "0   9976970                                아 더빙.. 진짜 짜증나네요 목소리      0\n",
       "1   3819312                  흠...포스터보고 초딩영화줄....오버연기조차 가볍지 않구나      1\n",
       "2  10265843                                  너무재밓었다그래서보는것을추천한다      0\n",
       "3   9045019                      교도소 이야기구먼 ..솔직히 재미는 없다..평점 조정      0\n",
       "4   6483659  사이몬페그의 익살스런 연기가 돋보였던 영화!스파이더맨에서 늙어보이기만 했던 커스틴 ...      1"
      ]
     },
     "execution_count": 3,
     "metadata": {},
     "output_type": "execute_result"
    }
   ],
   "source": [
    "# 데이터 불러오기\n",
    "train_data = pd.read_table(os.path.join(data_path, 'ratings_train.txt'))\n",
    "test_data = pd.read_table(os.path.join(data_path, 'ratings_test.txt'))\n",
    "\n",
    "train_data.head()"
   ]
  },
  {
   "cell_type": "markdown",
   "id": "d4e455b3",
   "metadata": {},
   "source": [
    "# 2. 데이터 전처리, 데이터로더 구성하기"
   ]
  },
  {
   "cell_type": "markdown",
   "id": "00de1d15",
   "metadata": {},
   "source": [
    "- 데이터의 중복 제거\n",
    "- NaN 결측치 제거\n",
    "- 한국어 토크나이저로 토큰화\n",
    "- 불용어(Stopwords) 제거\n",
    "- 사전word_to_index 구성\n",
    "- 텍스트 스트링을 사전 인덱스 스트링으로 변환\n",
    "- X_train, y_train, X_test, y_test, word_to_index 리턴"
   ]
  },
  {
   "cell_type": "code",
   "execution_count": 5,
   "id": "5b301d77",
   "metadata": {},
   "outputs": [
    {
     "data": {
      "text/html": [
       "<div>\n",
       "<style scoped>\n",
       "    .dataframe tbody tr th:only-of-type {\n",
       "        vertical-align: middle;\n",
       "    }\n",
       "\n",
       "    .dataframe tbody tr th {\n",
       "        vertical-align: top;\n",
       "    }\n",
       "\n",
       "    .dataframe thead th {\n",
       "        text-align: right;\n",
       "    }\n",
       "</style>\n",
       "<table border=\"1\" class=\"dataframe\">\n",
       "  <thead>\n",
       "    <tr style=\"text-align: right;\">\n",
       "      <th></th>\n",
       "      <th>id</th>\n",
       "      <th>document</th>\n",
       "      <th>label</th>\n",
       "    </tr>\n",
       "  </thead>\n",
       "  <tbody>\n",
       "    <tr>\n",
       "      <th>0</th>\n",
       "      <td>9976970</td>\n",
       "      <td>아 더빙.. 진짜 짜증나네요 목소리</td>\n",
       "      <td>0</td>\n",
       "    </tr>\n",
       "    <tr>\n",
       "      <th>1</th>\n",
       "      <td>3819312</td>\n",
       "      <td>흠...포스터보고 초딩영화줄....오버연기조차 가볍지 않구나</td>\n",
       "      <td>1</td>\n",
       "    </tr>\n",
       "    <tr>\n",
       "      <th>2</th>\n",
       "      <td>10265843</td>\n",
       "      <td>너무재밓었다그래서보는것을추천한다</td>\n",
       "      <td>0</td>\n",
       "    </tr>\n",
       "    <tr>\n",
       "      <th>3</th>\n",
       "      <td>9045019</td>\n",
       "      <td>교도소 이야기구먼 ..솔직히 재미는 없다..평점 조정</td>\n",
       "      <td>0</td>\n",
       "    </tr>\n",
       "    <tr>\n",
       "      <th>4</th>\n",
       "      <td>6483659</td>\n",
       "      <td>사이몬페그의 익살스런 연기가 돋보였던 영화!스파이더맨에서 늙어보이기만 했던 커스틴 ...</td>\n",
       "      <td>1</td>\n",
       "    </tr>\n",
       "    <tr>\n",
       "      <th>...</th>\n",
       "      <td>...</td>\n",
       "      <td>...</td>\n",
       "      <td>...</td>\n",
       "    </tr>\n",
       "    <tr>\n",
       "      <th>149995</th>\n",
       "      <td>6222902</td>\n",
       "      <td>인간이 문제지.. 소는 뭔죄인가..</td>\n",
       "      <td>0</td>\n",
       "    </tr>\n",
       "    <tr>\n",
       "      <th>149996</th>\n",
       "      <td>8549745</td>\n",
       "      <td>평점이 너무 낮아서...</td>\n",
       "      <td>1</td>\n",
       "    </tr>\n",
       "    <tr>\n",
       "      <th>149997</th>\n",
       "      <td>9311800</td>\n",
       "      <td>이게 뭐요? 한국인은 거들먹거리고 필리핀 혼혈은 착하다?</td>\n",
       "      <td>0</td>\n",
       "    </tr>\n",
       "    <tr>\n",
       "      <th>149998</th>\n",
       "      <td>2376369</td>\n",
       "      <td>청춘 영화의 최고봉.방황과 우울했던 날들의 자화상</td>\n",
       "      <td>1</td>\n",
       "    </tr>\n",
       "    <tr>\n",
       "      <th>149999</th>\n",
       "      <td>9619869</td>\n",
       "      <td>한국 영화 최초로 수간하는 내용이 담긴 영화</td>\n",
       "      <td>0</td>\n",
       "    </tr>\n",
       "  </tbody>\n",
       "</table>\n",
       "<p>150000 rows × 3 columns</p>\n",
       "</div>"
      ],
      "text/plain": [
       "              id                                           document  label\n",
       "0        9976970                                아 더빙.. 진짜 짜증나네요 목소리      0\n",
       "1        3819312                  흠...포스터보고 초딩영화줄....오버연기조차 가볍지 않구나      1\n",
       "2       10265843                                  너무재밓었다그래서보는것을추천한다      0\n",
       "3        9045019                      교도소 이야기구먼 ..솔직히 재미는 없다..평점 조정      0\n",
       "4        6483659  사이몬페그의 익살스런 연기가 돋보였던 영화!스파이더맨에서 늙어보이기만 했던 커스틴 ...      1\n",
       "...          ...                                                ...    ...\n",
       "149995   6222902                                인간이 문제지.. 소는 뭔죄인가..      0\n",
       "149996   8549745                                      평점이 너무 낮아서...      1\n",
       "149997   9311800                    이게 뭐요? 한국인은 거들먹거리고 필리핀 혼혈은 착하다?      0\n",
       "149998   2376369                        청춘 영화의 최고봉.방황과 우울했던 날들의 자화상      1\n",
       "149999   9619869                           한국 영화 최초로 수간하는 내용이 담긴 영화      0\n",
       "\n",
       "[150000 rows x 3 columns]"
      ]
     },
     "execution_count": 5,
     "metadata": {},
     "output_type": "execute_result"
    }
   ],
   "source": [
    "train_data"
   ]
  },
  {
   "cell_type": "code",
   "execution_count": null,
   "id": "e4fdbad2",
   "metadata": {},
   "outputs": [],
   "source": [
    "tokenizer = Mecab()\n",
    "Kkoma()\n",
    "afsa()\n"
   ]
  },
  {
   "cell_type": "code",
   "execution_count": 7,
   "id": "3950b6d6",
   "metadata": {
    "scrolled": false
   },
   "outputs": [
    {
     "name": "stderr",
     "output_type": "stream",
     "text": [
      "100%|██████████| 146182/146182 [00:17<00:00, 8341.30it/s] \n",
      "100%|██████████| 49157/49157 [00:04<00:00, 10539.30it/s]\n"
     ]
    }
   ],
   "source": [
    "tokenizer = Mecab()\n",
    "stopwords = ['의','가','이','은','들','는','좀','잘','걍','과','도','를','으로','자','에','와','한','하다']\n",
    "\n",
    "# train, test 합쳐서 한번에 진행\n",
    "df_list = [train_data, test_data]\n",
    "\n",
    "for i, df in enumerate(df_list):\n",
    "    # 데이터 중복 제거\n",
    "    df = df.drop_duplicates(subset=['document'])\n",
    "\n",
    "    # NaN 결측치 제거\n",
    "    df = df.dropna()\n",
    "\n",
    "    # tokenizing\n",
    "    tokens = []\n",
    "    for doc in tqdm(df['document']):\n",
    "        # 형태소 추출\n",
    "        token = tokenizer.morphs(doc)\n",
    "        token = [word for word in token if not word in stopwords]\n",
    "        tokens.append(token)\n",
    "    df['tokens'] = tokens\n",
    "    df_list[i] = df\n",
    "    \n",
    "train_data = df_list[0]\n",
    "test_data = df_list[1]\n",
    "\n",
    "# 사전 만들기(train에서만 만들어야 됨)\n",
    "words = np.concatenate(train_data['tokens'].values).tolist()\n",
    "counter = Counter(words)\n",
    "counter = counter.most_common(10000-4) # 정해져있는 앞에 4개 토큰 빼고 만들기\n",
    "vocab = ['', '', '', ''] + [key for key, _ in counter]\n",
    "word_to_index = {word:index for index, word in enumerate(vocab)}\n",
    "\n",
    "def wordlist_to_indexlist(wordlist):\n",
    "    return [word_to_index[word] if word in word_to_index else word_to_index[''] for word in wordlist]\n",
    "\n",
    "X_train = list(map(wordlist_to_indexlist, train_data['tokens'].values))\n",
    "X_test = list(map(wordlist_to_indexlist, test_data['tokens'].values))"
   ]
  },
  {
   "cell_type": "code",
   "execution_count": 69,
   "id": "a0bb1584",
   "metadata": {},
   "outputs": [
    {
     "name": "stderr",
     "output_type": "stream",
     "text": [
      "100%|██████████| 146182/146182 [00:13<00:00, 10479.42it/s]\n",
      "100%|██████████| 49157/49157 [00:04<00:00, 10791.04it/s]\n"
     ]
    }
   ],
   "source": [
    "tokenizer = Mecab()\n",
    "# 필요없는 단어\n",
    "stopwords = ['의','가','이','은','들','는','좀','잘','걍','과','도','를','으로','자','에','와','한','하다']\n",
    "\n",
    "def load_data():\n",
    "    # 데이터 불러오기\n",
    "    data_path = '/aiffel/aiffel/sentiment_classification/data/'\n",
    "\n",
    "    train_data = pd.read_table(os.path.join(data_path, 'ratings_train.txt'))\n",
    "    test_data = pd.read_table(os.path.join(data_path, 'ratings_test.txt'))\n",
    "    \n",
    "    return train_data, test_data\n",
    "\n",
    "def preprocessing_data(train_data, test_data, num_words=10000):\n",
    "    # train, test 합쳐서 한번에 진행\n",
    "    df_list = [train_data, test_data]\n",
    "\n",
    "    for i, df in enumerate(df_list):\n",
    "        # 데이터 중복 제거\n",
    "        df = df.drop_duplicates(subset=['document'])\n",
    "\n",
    "        # NaN 결측치 제거\n",
    "        df = df.dropna()\n",
    "\n",
    "        # tokenizing\n",
    "        tokens = []\n",
    "        for doc in tqdm(df['document']):\n",
    "            # 형태소 추출\n",
    "            token = tokenizer.morphs(doc)\n",
    "            token = [word for word in token if not word in stopwords]\n",
    "            tokens.append(token)\n",
    "        df['tokens'] = tokens\n",
    "        df_list[i] = df\n",
    "\n",
    "    train_data = df_list[0]\n",
    "    test_data = df_list[1]\n",
    "\n",
    "    # 사전 만들기(train에서만 만들어야 됨)\n",
    "    words = np.concatenate(train_data['tokens'].values).tolist()\n",
    "    counter = Counter(words)\n",
    "    counter = counter.most_common(num_words-4) # 정해져있는 앞에 4개 토큰 빼고 만들기\n",
    "    vocab = ['<PAD>', '<UNK>', '<BOS>', ''] + [key for key, _ in counter]\n",
    "    word_to_index = {word:index for index, word in enumerate(vocab)}\n",
    "\n",
    "    def wordlist_to_indexlist(wordlist):\n",
    "        return [word_to_index[word] if word in word_to_index else word_to_index[''] for word in wordlist]\n",
    "    \n",
    "    # token을 index로 바꾸기\n",
    "    X_train = list(map(wordlist_to_indexlist, train_data['tokens'].values))\n",
    "    X_test = list(map(wordlist_to_indexlist, test_data['tokens'].values))\n",
    "    \n",
    "    return X_train, np.array(list(train_data['label'])), X_test, np.array(list(test_data['label'])), word_to_index\n",
    "\n",
    "\n",
    "# 데이터 불러오기\n",
    "train_data, test_data = load_data()\n",
    "\n",
    "X_train, y_train, X_test, y_test, word_to_index = preprocessing_data(train_data, test_data)"
   ]
  },
  {
   "cell_type": "code",
   "execution_count": 9,
   "id": "ca9aea1d",
   "metadata": {},
   "outputs": [],
   "source": [
    "index_to_word = {index:word for word, index in word_to_index.items()}"
   ]
  },
  {
   "cell_type": "code",
   "execution_count": 10,
   "id": "8ecda173",
   "metadata": {},
   "outputs": [],
   "source": [
    "# 문장 1개를 활용할 딕셔너리와 함께 주면, 단어 인덱스 리스트 벡터로 변환해 주는 함수입니다. \n",
    "# 단, 모든 문장은 <BOS>로 시작하는 것으로 합니다. \n",
    "def get_encoded_sentence(sentence, word_to_index):\n",
    "    return [word_to_index['<BOS>']]+[word_to_index[word] if word in word_to_index else word_to_index['<UNK>'] for word in sentence.split()]\n",
    "\n",
    "# 여러 개의 문장 리스트를 한꺼번에 단어 인덱스 리스트 벡터로 encode해 주는 함수입니다. \n",
    "def get_encoded_sentences(sentences, word_to_index):\n",
    "    return [get_encoded_sentence(sentence, word_to_index) for sentence in sentences]\n",
    "\n",
    "# 숫자 벡터로 encode된 문장을 원래대로 decode하는 함수입니다. \n",
    "def get_decoded_sentence(encoded_sentence, index_to_word):\n",
    "    return ' '.join(index_to_word[index] if index in index_to_word else '<UNK>' for index in encoded_sentence[1:])  #[1:]를 통해 <BOS>를 제외\n",
    "\n",
    "# 여러 개의 숫자 벡터로 encode된 문장을 한꺼번에 원래대로 decode하는 함수입니다. \n",
    "def get_decoded_sentences(encoded_sentences, index_to_word):\n",
    "    return [get_decoded_sentence(encoded_sentence, index_to_word) for encoded_sentence in encoded_sentences]"
   ]
  },
  {
   "cell_type": "markdown",
   "id": "55ab6289",
   "metadata": {},
   "source": [
    "# 3. 모델 구성을 위한 데이터 분석 및 가공"
   ]
  },
  {
   "cell_type": "code",
   "execution_count": 11,
   "id": "15792860",
   "metadata": {},
   "outputs": [
    {
     "name": "stdout",
     "output_type": "stream",
     "text": [
      "문장길이 평균 :  15.98170773419436\n",
      "문장길이 최대 :  116\n",
      "문장길이 표준편차 :  12.82473766384545\n",
      "pad_sequences maxlen :  67\n",
      "전체 문장의 0.9975852020084552%가 maxlen 설정값 이내에 포함됩니다. \n"
     ]
    }
   ],
   "source": [
    "# 학습 셋만을 가지고 분포를 살펴보가.\n",
    "total_data_text = list(X_train)\n",
    "\n",
    "# 텍스트데이터 문장길이의 리스트를 생성한 후\n",
    "num_tokens = [len(tokens) for tokens in total_data_text]\n",
    "num_tokens = np.array(num_tokens)\n",
    "\n",
    "# 문장길이의 평균값, 최대값, 표준편차를 계산해 본다.\n",
    "print('문장길이 평균 : ', np.mean(num_tokens))\n",
    "print('문장길이 최대 : ', np.max(num_tokens))\n",
    "print('문장길이 표준편차 : ', np.std(num_tokens))\n",
    "\n",
    "# 예를들어, 최대 길이를 (평균 + 2*표준편차)로 한다면,  \n",
    "max_tokens = np.mean(num_tokens) + 4 * np.std(num_tokens)\n",
    "maxlen = int(max_tokens)\n",
    "\n",
    "print('pad_sequences maxlen : ', maxlen)\n",
    "print(f'전체 문장의 {np.sum(num_tokens < max_tokens) / len(num_tokens)}%가 maxlen 설정값 이내에 포함됩니다. ')"
   ]
  },
  {
   "cell_type": "code",
   "execution_count": 64,
   "id": "35ae4c38",
   "metadata": {},
   "outputs": [],
   "source": [
    "# 4표준편차로 maxlen 설정.0.997정도 포함됨\n",
    "# padding 추가하기\n",
    "padded_X_tr = tf.keras.preprocessing.sequence.pad_sequences(X_train,\n",
    "                                                       value=word_to_index['<PAD>'],\n",
    "                                                       padding='pre',\n",
    "                                                       maxlen=maxlen)\n",
    "padded_X_ts = tf.keras.preprocessing.sequence.pad_sequences(X_test,\n",
    "                                                       value=word_to_index['<PAD>'],\n",
    "                                                       padding='pre',\n",
    "                                                       maxlen=maxlen)"
   ]
  },
  {
   "cell_type": "code",
   "execution_count": 65,
   "id": "f846effb",
   "metadata": {},
   "outputs": [
    {
     "data": {
      "text/plain": [
       "array([[   0,    0,    0, ...,   20,   33,  748],\n",
       "       [   0,    0,    0, ...,   15,   44,  391],\n",
       "       [   0,    0,    0, ...,   24,  205,    3],\n",
       "       ...,\n",
       "       [   0,    0,    0, ..., 2710,    6,   18],\n",
       "       [   0,    0,    0, ...,   60,  395, 8572],\n",
       "       [   0,    0,    0, ...,   88, 2740,    5]], dtype=int32)"
      ]
     },
     "execution_count": 65,
     "metadata": {},
     "output_type": "execute_result"
    }
   ],
   "source": [
    "padded_X_tr"
   ]
  },
  {
   "cell_type": "code",
   "execution_count": 13,
   "id": "636ec783",
   "metadata": {},
   "outputs": [
    {
     "data": {
      "text/plain": [
       "(67.0, 67.0)"
      ]
     },
     "execution_count": 13,
     "metadata": {},
     "output_type": "execute_result"
    }
   ],
   "source": [
    "np.mean([len(tokens) for tokens in padded_X_tr]), np.mean([len(tokens) for tokens in padded_X_ts])"
   ]
  },
  {
   "cell_type": "code",
   "execution_count": 70,
   "id": "7b8c883e",
   "metadata": {},
   "outputs": [],
   "source": [
    "def padding_data(X_train, X_test, max_len=67, padding='pre'):\n",
    "    \n",
    "    padded_X_tr = tf.keras.preprocessing.sequence.pad_sequences(X_train,\n",
    "                                                       value=word_to_index['<PAD>'],\n",
    "                                                       padding='pre',\n",
    "                                                       maxlen=maxlen)\n",
    "    padded_X_ts = tf.keras.preprocessing.sequence.pad_sequences(X_test,\n",
    "                                                       value=word_to_index['<PAD>'],\n",
    "                                                       padding='pre',\n",
    "                                                       maxlen=maxlen)\n",
    "    return padded_X_tr, padded_X_ts"
   ]
  },
  {
   "cell_type": "markdown",
   "id": "3ffd766e",
   "metadata": {},
   "source": [
    "# 4. 모델 구성 및 validation set 구성"
   ]
  },
  {
   "cell_type": "code",
   "execution_count": 75,
   "id": "ce96798a",
   "metadata": {
    "scrolled": true
   },
   "outputs": [
    {
     "name": "stderr",
     "output_type": "stream",
     "text": [
      "100%|██████████| 146182/146182 [00:13<00:00, 10513.29it/s]\n",
      "100%|██████████| 49157/49157 [00:04<00:00, 10701.72it/s]\n"
     ]
    },
    {
     "name": "stdout",
     "output_type": "stream",
     "text": [
      "tr: (116945, 67), val: (29237, 67), ts: (49157, 67)\n"
     ]
    }
   ],
   "source": [
    "# 데이터 불러오기\n",
    "train_data, test_data = load_data()\n",
    "\n",
    "# 데이터 처리하기\n",
    "X_train, y_train, X_test, y_test, word_to_index = preprocessing_data(train_data, test_data)\n",
    "\n",
    "# padding\n",
    "X_train, X_ts = padding_data(X_train, X_test)\n",
    "\n",
    "# validation set 나누기\n",
    "val_ratio = 0.2\n",
    "\n",
    "X_tr, X_val, y_tr, y_val = train_test_split(X_train, y_train, test_size=val_ratio, random_state=2023)\n",
    "print(f\"tr: {X_tr.shape}, val: {X_val.shape}, ts: {X_ts.shape}\")"
   ]
  },
  {
   "cell_type": "code",
   "execution_count": 39,
   "id": "e80cafa4",
   "metadata": {},
   "outputs": [],
   "source": [
    "# 모델 만들기 , 총 3개 모델 (Vanila RNN, 1-D CNN, MaxPool1D)"
   ]
  },
  {
   "cell_type": "code",
   "execution_count": 81,
   "id": "674ebc8b",
   "metadata": {},
   "outputs": [
    {
     "name": "stdout",
     "output_type": "stream",
     "text": [
      "Model: \"sequential_6\"\n",
      "_________________________________________________________________\n",
      "Layer (type)                 Output Shape              Param #   \n",
      "=================================================================\n",
      "embedding_6 (Embedding)      (None, None, 100)         1000000   \n",
      "_________________________________________________________________\n",
      "lstm_3 (LSTM)                (None, 10)                4440      \n",
      "_________________________________________________________________\n",
      "dense_12 (Dense)             (None, 8)                 88        \n",
      "_________________________________________________________________\n",
      "dense_13 (Dense)             (None, 1)                 9         \n",
      "=================================================================\n",
      "Total params: 1,004,537\n",
      "Trainable params: 1,004,537\n",
      "Non-trainable params: 0\n",
      "_________________________________________________________________\n"
     ]
    }
   ],
   "source": [
    "# 1. Vanila RNN\n",
    "vocab_size = len(word_to_index)  # 어휘 사전의 크기입니다(10개의 단어)\n",
    "word_vector_dim = 100  # 단어 하나를 표현하는 임베딩 벡터의 차원수입니다. \n",
    "\n",
    "simple_RNN = tf.keras.Sequential()\n",
    "simple_RNN.add(tf.keras.layers.Embedding(vocab_size, word_vector_dim, input_shape=(None,)))\n",
    "simple_RNN.add(tf.keras.layers.LSTM(10))  # status vector 의 size\n",
    "simple_RNN.add(tf.keras.layers.Dense(8, activation='relu'))\n",
    "simple_RNN.add(tf.keras.layers.Dense(1, activation='sigmoid'))  # 최종 출력은 긍정/부정을 나타내는 1dim 입니다.\n",
    "\n",
    "simple_RNN.summary()"
   ]
  },
  {
   "cell_type": "code",
   "execution_count": 47,
   "id": "de63e892",
   "metadata": {},
   "outputs": [
    {
     "name": "stdout",
     "output_type": "stream",
     "text": [
      "Model: \"sequential_4\"\n",
      "_________________________________________________________________\n",
      "Layer (type)                 Output Shape              Param #   \n",
      "=================================================================\n",
      "embedding_4 (Embedding)      (None, None, 100)         1000000   \n",
      "_________________________________________________________________\n",
      "conv1d_2 (Conv1D)            (None, None, 16)          11216     \n",
      "_________________________________________________________________\n",
      "max_pooling1d_1 (MaxPooling1 (None, None, 16)          0         \n",
      "_________________________________________________________________\n",
      "conv1d_3 (Conv1D)            (None, None, 16)          1808      \n",
      "_________________________________________________________________\n",
      "global_max_pooling1d_1 (Glob (None, 16)                0         \n",
      "_________________________________________________________________\n",
      "dense_8 (Dense)              (None, 8)                 136       \n",
      "_________________________________________________________________\n",
      "dense_9 (Dense)              (None, 1)                 9         \n",
      "=================================================================\n",
      "Total params: 1,013,169\n",
      "Trainable params: 1,013,169\n",
      "Non-trainable params: 0\n",
      "_________________________________________________________________\n"
     ]
    }
   ],
   "source": [
    "# 2. 1-D CNN\n",
    "vocab_size = len(word_to_index)  # 어휘 사전의 크기입니다(10개의 단어)\n",
    "word_vector_dim = 100  # 단어 하나를 표현하는 임베딩 벡터의 차원수입니다. \n",
    "\n",
    "OneD_CNN = tf.keras.Sequential()\n",
    "OneD_CNN.add(tf.keras.layers.Embedding(vocab_size, word_vector_dim, input_shape=(None,)))\n",
    "OneD_CNN.add(tf.keras.layers.Conv1D(16, 7, activation='relu'))\n",
    "OneD_CNN.add(tf.keras.layers.MaxPooling1D(5))\n",
    "OneD_CNN.add(tf.keras.layers.Conv1D(16, 7, activation='relu'))\n",
    "OneD_CNN.add(tf.keras.layers.GlobalMaxPooling1D())\n",
    "OneD_CNN.add(tf.keras.layers.Dense(8, activation='relu'))\n",
    "OneD_CNN.add(tf.keras.layers.Dense(1, activation='sigmoid'))  # 최종 출력은 긍정/부정을 나타내는 1dim 입니다.\n",
    "\n",
    "OneD_CNN.summary()"
   ]
  },
  {
   "cell_type": "code",
   "execution_count": 48,
   "id": "0bbf7d26",
   "metadata": {},
   "outputs": [
    {
     "name": "stdout",
     "output_type": "stream",
     "text": [
      "Model: \"sequential_5\"\n",
      "_________________________________________________________________\n",
      "Layer (type)                 Output Shape              Param #   \n",
      "=================================================================\n",
      "embedding_5 (Embedding)      (None, None, 100)         1000000   \n",
      "_________________________________________________________________\n",
      "global_max_pooling1d_2 (Glob (None, 100)               0         \n",
      "_________________________________________________________________\n",
      "dense_10 (Dense)             (None, 8)                 808       \n",
      "_________________________________________________________________\n",
      "dense_11 (Dense)             (None, 1)                 9         \n",
      "=================================================================\n",
      "Total params: 1,000,817\n",
      "Trainable params: 1,000,817\n",
      "Non-trainable params: 0\n",
      "_________________________________________________________________\n"
     ]
    }
   ],
   "source": [
    "# 3. GlobalMaxPooling1D\n",
    "vocab_size = len(word_to_index)  # 어휘 사전의 크기입니다(10개의 단어)\n",
    "word_vector_dim = 100  # 단어 하나를 표현하는 임베딩 벡터의 차원수입니다. \n",
    "\n",
    "MaxPool1D = tf.keras.Sequential()\n",
    "MaxPool1D.add(tf.keras.layers.Embedding(vocab_size, word_vector_dim, input_shape=(None,)))\n",
    "MaxPool1D.add(tf.keras.layers.GlobalMaxPooling1D())\n",
    "MaxPool1D.add(tf.keras.layers.Dense(8, activation='relu'))\n",
    "MaxPool1D.add(tf.keras.layers.Dense(1, activation='sigmoid'))  # 최종 출력은 긍정/부정을 나타내는 1dim 입니다.\n",
    "\n",
    "MaxPool1D.summary()"
   ]
  },
  {
   "cell_type": "markdown",
   "id": "3d2b7d6b",
   "metadata": {},
   "source": [
    "# 5. 모델 훈련 게시"
   ]
  },
  {
   "cell_type": "code",
   "execution_count": 82,
   "id": "1a257940",
   "metadata": {
    "scrolled": true
   },
   "outputs": [
    {
     "name": "stdout",
     "output_type": "stream",
     "text": [
      "Epoch 1/20\n",
      "229/229 [==============================] - 4s 9ms/step - loss: 0.4542 - accuracy: 0.7988 - val_loss: 0.3603 - val_accuracy: 0.8439\n",
      "Epoch 2/20\n",
      "229/229 [==============================] - 2s 7ms/step - loss: 0.3293 - accuracy: 0.8625 - val_loss: 0.3425 - val_accuracy: 0.8494\n",
      "Epoch 3/20\n",
      "229/229 [==============================] - 2s 7ms/step - loss: 0.2995 - accuracy: 0.8766 - val_loss: 0.3397 - val_accuracy: 0.8508\n",
      "Epoch 4/20\n",
      "229/229 [==============================] - 2s 7ms/step - loss: 0.2794 - accuracy: 0.8855 - val_loss: 0.3401 - val_accuracy: 0.8529\n",
      "Epoch 5/20\n",
      "229/229 [==============================] - 2s 7ms/step - loss: 0.2603 - accuracy: 0.8939 - val_loss: 0.3510 - val_accuracy: 0.8519\n",
      "Epoch 6/20\n",
      "229/229 [==============================] - 2s 7ms/step - loss: 0.2407 - accuracy: 0.9022 - val_loss: 0.3505 - val_accuracy: 0.8511\n",
      "Epoch 7/20\n",
      "229/229 [==============================] - 2s 7ms/step - loss: 0.2229 - accuracy: 0.9107 - val_loss: 0.3576 - val_accuracy: 0.8533\n",
      "Epoch 8/20\n",
      "229/229 [==============================] - 2s 7ms/step - loss: 0.2077 - accuracy: 0.9179 - val_loss: 0.3770 - val_accuracy: 0.8521\n",
      "Epoch 9/20\n",
      "229/229 [==============================] - 2s 7ms/step - loss: 0.1912 - accuracy: 0.9256 - val_loss: 0.3913 - val_accuracy: 0.8508\n",
      "Epoch 10/20\n",
      "229/229 [==============================] - 2s 7ms/step - loss: 0.1775 - accuracy: 0.9326 - val_loss: 0.4025 - val_accuracy: 0.8498\n",
      "Epoch 11/20\n",
      "229/229 [==============================] - 2s 7ms/step - loss: 0.1631 - accuracy: 0.9396 - val_loss: 0.4245 - val_accuracy: 0.8487\n",
      "Epoch 12/20\n",
      "229/229 [==============================] - 2s 7ms/step - loss: 0.1511 - accuracy: 0.9452 - val_loss: 0.4398 - val_accuracy: 0.8453\n",
      "Epoch 13/20\n",
      "229/229 [==============================] - 2s 7ms/step - loss: 0.1406 - accuracy: 0.9501 - val_loss: 0.4643 - val_accuracy: 0.8422\n",
      "Epoch 14/20\n",
      "229/229 [==============================] - 2s 7ms/step - loss: 0.1295 - accuracy: 0.9549 - val_loss: 0.4864 - val_accuracy: 0.8410\n",
      "Epoch 15/20\n",
      "229/229 [==============================] - 2s 7ms/step - loss: 0.1228 - accuracy: 0.9581 - val_loss: 0.4980 - val_accuracy: 0.8404\n",
      "Epoch 16/20\n",
      "229/229 [==============================] - 2s 7ms/step - loss: 0.1168 - accuracy: 0.9607 - val_loss: 0.5208 - val_accuracy: 0.8406\n",
      "Epoch 17/20\n",
      "229/229 [==============================] - 2s 7ms/step - loss: 0.1087 - accuracy: 0.9639 - val_loss: 0.5388 - val_accuracy: 0.8386\n",
      "Epoch 18/20\n",
      "229/229 [==============================] - 2s 8ms/step - loss: 0.1003 - accuracy: 0.9674 - val_loss: 0.5689 - val_accuracy: 0.8376\n",
      "Epoch 19/20\n",
      "229/229 [==============================] - 2s 8ms/step - loss: 0.0953 - accuracy: 0.9687 - val_loss: 0.5818 - val_accuracy: 0.8387\n",
      "Epoch 20/20\n",
      "229/229 [==============================] - 2s 7ms/step - loss: 0.0922 - accuracy: 0.9698 - val_loss: 0.5962 - val_accuracy: 0.8367\n"
     ]
    }
   ],
   "source": [
    "# 1. Vanila RNN\n",
    "simple_RNN.compile(optimizer='adam',\n",
    "              loss='binary_crossentropy',\n",
    "              metrics=['accuracy'])\n",
    "              \n",
    "epochs=20  \n",
    "\n",
    "rnn_history = simple_RNN.fit(X_tr,\n",
    "                             y_tr,\n",
    "                             epochs=epochs,\n",
    "                             batch_size=512,\n",
    "                             validation_data=(X_val, y_val),\n",
    "                             verbose=1)"
   ]
  },
  {
   "cell_type": "code",
   "execution_count": 91,
   "id": "512b2a52",
   "metadata": {},
   "outputs": [
    {
     "data": {
      "image/png": "[encoded data removed]",
      "text/plain": [
       "<Figure size 864x864 with 1 Axes>"
      ]
     },
     "metadata": {
      "needs_background": "light"
     },
     "output_type": "display_data"
    },
    {
     "data": {
      "image/png": "[encoded data removed]",
      "text/plain": [
       "<Figure size 864x864 with 1 Axes>"
      ]
     },
     "metadata": {
      "needs_background": "light"
     },
     "output_type": "display_data"
    }
   ],
   "source": [
    "history_dict = rnn_history.history\n",
    "\n",
    "acc = history_dict['accuracy']\n",
    "val_acc = history_dict['val_accuracy']\n",
    "\n",
    "loss = history_dict['loss']\n",
    "val_loss = history_dict['val_loss']\n",
    "\n",
    "epochs = range(1, len(acc) + 1)\n",
    "\n",
    "plt.figure(figsize=(12, 12))\n",
    "plt.subplot(2, 1, 1)\n",
    "# \"bo\"는 \"파란색 점\"입니다\n",
    "plt.plot(epochs, loss, 'bo', label='Training loss')\n",
    "# b는 \"파란 실선\"입니다\n",
    "plt.plot(epochs, val_loss, 'b', label='Validation loss')\n",
    "plt.title('Training and validation loss')\n",
    "plt.xlabel('Epochs')\n",
    "plt.ylabel('Loss')\n",
    "plt.legend()\n",
    "plt.show()\n",
    "\n",
    "plt.figure(figsize=(12, 12))\n",
    "plt.subplot(2, 1, 2)\n",
    "plt.plot(epochs, acc, 'bo', label='Training acc')\n",
    "plt.plot(epochs, val_acc, 'b', label='Validation acc')\n",
    "plt.title('Training and validation accuracy')\n",
    "plt.xlabel('Epochs')\n",
    "plt.ylabel('Accuracy')\n",
    "plt.legend()\n",
    "plt.show()\n",
    "\n",
    "# -> 학습이 엉망으로 되고 있다."
   ]
  },
  {
   "cell_type": "code",
   "execution_count": 92,
   "id": "90dc03cf",
   "metadata": {
    "scrolled": true
   },
   "outputs": [
    {
     "name": "stdout",
     "output_type": "stream",
     "text": [
      "Epoch 1/20\n",
      "229/229 [==============================] - 20s 10ms/step - loss: 0.4893 - accuracy: 0.7516 - val_loss: 0.3652 - val_accuracy: 0.8349\n",
      "Epoch 2/20\n",
      "229/229 [==============================] - 1s 6ms/step - loss: 0.3275 - accuracy: 0.8589 - val_loss: 0.3487 - val_accuracy: 0.8432\n",
      "Epoch 3/20\n",
      "229/229 [==============================] - 1s 6ms/step - loss: 0.2793 - accuracy: 0.8834 - val_loss: 0.3518 - val_accuracy: 0.8435\n",
      "Epoch 4/20\n",
      "229/229 [==============================] - 1s 6ms/step - loss: 0.2292 - accuracy: 0.9088 - val_loss: 0.3696 - val_accuracy: 0.8430\n",
      "Epoch 5/20\n",
      "229/229 [==============================] - 1s 6ms/step - loss: 0.1770 - accuracy: 0.9333 - val_loss: 0.4187 - val_accuracy: 0.8395\n",
      "Epoch 6/20\n",
      "229/229 [==============================] - 1s 6ms/step - loss: 0.1305 - accuracy: 0.9532 - val_loss: 0.4680 - val_accuracy: 0.8340\n",
      "Epoch 7/20\n",
      "229/229 [==============================] - 1s 6ms/step - loss: 0.0944 - accuracy: 0.9675 - val_loss: 0.5321 - val_accuracy: 0.8308\n",
      "Epoch 8/20\n",
      "229/229 [==============================] - 1s 6ms/step - loss: 0.0711 - accuracy: 0.9760 - val_loss: 0.5961 - val_accuracy: 0.8317\n",
      "Epoch 9/20\n",
      "229/229 [==============================] - 1s 6ms/step - loss: 0.0558 - accuracy: 0.9807 - val_loss: 0.6704 - val_accuracy: 0.8265\n",
      "Epoch 10/20\n",
      "229/229 [==============================] - 1s 6ms/step - loss: 0.0457 - accuracy: 0.9843 - val_loss: 0.7343 - val_accuracy: 0.8283\n",
      "Epoch 11/20\n",
      "229/229 [==============================] - 1s 6ms/step - loss: 0.0386 - accuracy: 0.9866 - val_loss: 0.7972 - val_accuracy: 0.8267\n",
      "Epoch 12/20\n",
      "229/229 [==============================] - 1s 6ms/step - loss: 0.0341 - accuracy: 0.9876 - val_loss: 0.8734 - val_accuracy: 0.8275\n",
      "Epoch 13/20\n",
      "229/229 [==============================] - 1s 6ms/step - loss: 0.0303 - accuracy: 0.9892 - val_loss: 0.9265 - val_accuracy: 0.8266\n",
      "Epoch 14/20\n",
      "229/229 [==============================] - 1s 6ms/step - loss: 0.0280 - accuracy: 0.9899 - val_loss: 0.9691 - val_accuracy: 0.8245\n",
      "Epoch 15/20\n",
      "229/229 [==============================] - 1s 6ms/step - loss: 0.0260 - accuracy: 0.9905 - val_loss: 1.0473 - val_accuracy: 0.8245\n",
      "Epoch 16/20\n",
      "229/229 [==============================] - 1s 6ms/step - loss: 0.0250 - accuracy: 0.9906 - val_loss: 1.0681 - val_accuracy: 0.8213\n",
      "Epoch 17/20\n",
      "229/229 [==============================] - 1s 6ms/step - loss: 0.0262 - accuracy: 0.9900 - val_loss: 1.1010 - val_accuracy: 0.8214\n",
      "Epoch 18/20\n",
      "229/229 [==============================] - 1s 6ms/step - loss: 0.0377 - accuracy: 0.9854 - val_loss: 1.1173 - val_accuracy: 0.8217\n",
      "Epoch 19/20\n",
      "229/229 [==============================] - 1s 6ms/step - loss: 0.0391 - accuracy: 0.9853 - val_loss: 1.1152 - val_accuracy: 0.8201\n",
      "Epoch 20/20\n",
      "229/229 [==============================] - 1s 6ms/step - loss: 0.0281 - accuracy: 0.9891 - val_loss: 1.1332 - val_accuracy: 0.8191\n"
     ]
    }
   ],
   "source": [
    "# 2. 1-D CNN\n",
    "OneD_CNN.compile(optimizer='adam',\n",
    "              loss='binary_crossentropy',\n",
    "              metrics=['accuracy'])\n",
    "              \n",
    "epochs=20  \n",
    "\n",
    "CNN_history = OneD_CNN.fit(X_tr,\n",
    "                             y_tr,\n",
    "                             epochs=epochs,\n",
    "                             batch_size=512,\n",
    "                             validation_data=(X_val, y_val),\n",
    "                             verbose=1)"
   ]
  },
  {
   "cell_type": "code",
   "execution_count": 93,
   "id": "e4a29473",
   "metadata": {
    "scrolled": true
   },
   "outputs": [
    {
     "name": "stdout",
     "output_type": "stream",
     "text": [
      "Epoch 1/20\n",
      "229/229 [==============================] - 2s 5ms/step - loss: 0.5160 - accuracy: 0.7748 - val_loss: 0.3761 - val_accuracy: 0.8388\n",
      "Epoch 2/20\n",
      "229/229 [==============================] - 1s 4ms/step - loss: 0.3309 - accuracy: 0.8618 - val_loss: 0.3437 - val_accuracy: 0.8506\n",
      "Epoch 3/20\n",
      "229/229 [==============================] - 1s 4ms/step - loss: 0.2829 - accuracy: 0.8849 - val_loss: 0.3426 - val_accuracy: 0.8528\n",
      "Epoch 4/20\n",
      "229/229 [==============================] - 1s 4ms/step - loss: 0.2479 - accuracy: 0.9027 - val_loss: 0.3503 - val_accuracy: 0.8521\n",
      "Epoch 5/20\n",
      "229/229 [==============================] - 1s 4ms/step - loss: 0.2148 - accuracy: 0.9182 - val_loss: 0.3641 - val_accuracy: 0.8496\n",
      "Epoch 6/20\n",
      "229/229 [==============================] - 1s 4ms/step - loss: 0.1831 - accuracy: 0.9332 - val_loss: 0.3857 - val_accuracy: 0.8483\n",
      "Epoch 7/20\n",
      "229/229 [==============================] - 1s 4ms/step - loss: 0.1526 - accuracy: 0.9470 - val_loss: 0.4083 - val_accuracy: 0.8452\n",
      "Epoch 8/20\n",
      "229/229 [==============================] - 1s 4ms/step - loss: 0.1237 - accuracy: 0.9602 - val_loss: 0.4409 - val_accuracy: 0.8431\n",
      "Epoch 9/20\n",
      "229/229 [==============================] - 1s 4ms/step - loss: 0.0987 - accuracy: 0.9705 - val_loss: 0.4743 - val_accuracy: 0.8411\n",
      "Epoch 10/20\n",
      "229/229 [==============================] - 1s 4ms/step - loss: 0.0783 - accuracy: 0.9783 - val_loss: 0.5086 - val_accuracy: 0.8393\n",
      "Epoch 11/20\n",
      "229/229 [==============================] - 1s 4ms/step - loss: 0.0620 - accuracy: 0.9842 - val_loss: 0.5416 - val_accuracy: 0.8374\n",
      "Epoch 12/20\n",
      "229/229 [==============================] - 1s 4ms/step - loss: 0.0491 - accuracy: 0.9883 - val_loss: 0.5764 - val_accuracy: 0.8351\n",
      "Epoch 13/20\n",
      "229/229 [==============================] - 1s 4ms/step - loss: 0.0395 - accuracy: 0.9907 - val_loss: 0.6131 - val_accuracy: 0.8331\n",
      "Epoch 14/20\n",
      "229/229 [==============================] - 1s 4ms/step - loss: 0.0319 - accuracy: 0.9927 - val_loss: 0.6480 - val_accuracy: 0.8327\n",
      "Epoch 15/20\n",
      "229/229 [==============================] - 1s 5ms/step - loss: 0.0263 - accuracy: 0.9939 - val_loss: 0.6840 - val_accuracy: 0.8324\n",
      "Epoch 16/20\n",
      "229/229 [==============================] - 1s 4ms/step - loss: 0.0218 - accuracy: 0.9948 - val_loss: 0.7093 - val_accuracy: 0.8309\n",
      "Epoch 17/20\n",
      "229/229 [==============================] - 1s 4ms/step - loss: 0.0186 - accuracy: 0.9953 - val_loss: 0.7450 - val_accuracy: 0.8299\n",
      "Epoch 18/20\n",
      "229/229 [==============================] - 1s 4ms/step - loss: 0.0162 - accuracy: 0.9956 - val_loss: 0.7743 - val_accuracy: 0.8304\n",
      "Epoch 19/20\n",
      "229/229 [==============================] - 1s 4ms/step - loss: 0.0140 - accuracy: 0.9960 - val_loss: 0.8021 - val_accuracy: 0.8289\n",
      "Epoch 20/20\n",
      "229/229 [==============================] - 1s 4ms/step - loss: 0.0125 - accuracy: 0.9961 - val_loss: 0.8304 - val_accuracy: 0.8292\n"
     ]
    }
   ],
   "source": [
    "# 3. GlobalMaxPooling1D\n",
    "MaxPool1D.compile(optimizer='adam',\n",
    "              loss='binary_crossentropy',\n",
    "              metrics=['accuracy'])\n",
    "              \n",
    "epochs=20  \n",
    "\n",
    "MaxPool_history = MaxPool1D.fit(X_tr,\n",
    "                             y_tr,\n",
    "                             epochs=epochs,\n",
    "                             batch_size=512,\n",
    "                             validation_data=(X_val, y_val),\n",
    "                             verbose=1)"
   ]
  },
  {
   "cell_type": "code",
   "execution_count": 179,
   "id": "acd30c98",
   "metadata": {},
   "outputs": [
    {
     "name": "stdout",
     "output_type": "stream",
     "text": [
      "1537/1537 - 4s - loss: 0.6171 - accuracy: 0.8330\n",
      "[0.6171362996101379, 0.8329840898513794]\n"
     ]
    }
   ],
   "source": [
    "# 테스트셋을 통한 모델 평가\n",
    "results = simple_RNN.evaluate(X_ts,  y_test, verbose=2)\n",
    "\n",
    "print(results)"
   ]
  },
  {
   "cell_type": "code",
   "execution_count": 180,
   "id": "b44b57aa",
   "metadata": {},
   "outputs": [
    {
     "name": "stdout",
     "output_type": "stream",
     "text": [
      "1537/1537 - 3s - loss: 1.1795 - accuracy: 0.8145\n",
      "[1.179455041885376, 0.8145126700401306]\n"
     ]
    }
   ],
   "source": [
    "# 테스트셋을 통한 모델 평가\n",
    "results = OneD_CNN.evaluate(X_ts,  y_test, verbose=2)\n",
    "\n",
    "print(results)"
   ]
  },
  {
   "cell_type": "code",
   "execution_count": 181,
   "id": "18794352",
   "metadata": {},
   "outputs": [
    {
     "name": "stdout",
     "output_type": "stream",
     "text": [
      "1537/1537 - 2s - loss: 0.8405 - accuracy: 0.8295\n",
      "[0.8404644727706909, 0.829505443572998]\n"
     ]
    }
   ],
   "source": [
    "# 테스트셋을 통한 모델 평가\n",
    "results = MaxPool1D.evaluate(X_ts,  y_test, verbose=2)\n",
    "\n",
    "print(results)"
   ]
  },
  {
   "cell_type": "markdown",
   "id": "b5e671e8",
   "metadata": {},
   "source": [
    "# 6. Loss, Accuracy 그래프 시각화"
   ]
  },
  {
   "cell_type": "code",
   "execution_count": 108,
   "id": "3a8c3bf1",
   "metadata": {},
   "outputs": [
    {
     "data": {
      "image/png": "[encoded data removed]",
      "text/plain": [
       "<Figure size 864x864 with 1 Axes>"
      ]
     },
     "metadata": {
      "needs_background": "light"
     },
     "output_type": "display_data"
    },
    {
     "data": {
      "image/png": "[encoded data removed]",
      "text/plain": [
       "<Figure size 864x864 with 1 Axes>"
      ]
     },
     "metadata": {
      "needs_background": "light"
     },
     "output_type": "display_data"
    }
   ],
   "source": [
    "# 결과 3개 한번에 살펴보기\n",
    "def get_acc_loss(history):\n",
    "    history_dict = history.history\n",
    "    \n",
    "    acc = history_dict['accuracy']\n",
    "    val_acc = history_dict['val_accuracy']\n",
    "\n",
    "    loss = history_dict['loss']\n",
    "    val_loss = history_dict['val_loss']\n",
    "    \n",
    "    return acc, val_acc, loss, val_loss\n",
    "\n",
    "rnn_acc, rnn_val_acc, rnn_loss, rnn_val_loss = get_acc_loss(rnn_history)\n",
    "cnn_acc, cnn_val_acc, cnn_loss, cnn_val_loss = get_acc_loss(CNN_history)\n",
    "pool_acc, pool_val_acc, pool_loss, pool_val_loss = get_acc_loss(MaxPool_history)\n",
    "\n",
    "epochs = range(1, len(acc) + 1)\n",
    "\n",
    "# loss 그래프\n",
    "plt.figure(figsize=(12, 12))\n",
    "plt.subplot(2, 1, 1)\n",
    "# \"bo\"는 \"파란색 점\"입니다\n",
    "plt.plot(epochs, rnn_loss, 'bo', label='RNN Training loss')\n",
    "plt.plot(epochs, cnn_loss, 'go', label='CNN Training loss')\n",
    "plt.plot(epochs, pool_loss, 'ro', label='Pool Training loss')\n",
    "# val loss 그래프\n",
    "# b는 \"파란 실선\"입니다\n",
    "plt.plot(epochs, rnn_val_loss, 'b', label='RNN Validation loss')\n",
    "plt.plot(epochs, cnn_val_loss, 'g', label='CNN Validation loss')\n",
    "plt.plot(epochs, pool_val_loss, 'r', label='Pool Validation loss')\n",
    "\n",
    "plt.title('Training and validation loss')\n",
    "plt.xlabel('Epochs')\n",
    "plt.ylabel('Loss')\n",
    "plt.legend()\n",
    "plt.show()\n",
    "\n",
    "# acc 그래프\n",
    "plt.figure(figsize=(12, 12))\n",
    "plt.subplot(2, 1, 2)\n",
    "\n",
    "plt.plot(epochs, rnn_acc, 'bo', label='RNN Training acc')\n",
    "plt.plot(epochs, cnn_acc, 'go', label='CNN Training acc')\n",
    "plt.plot(epochs, pool_acc, 'ro', label='Pool Training acc')\n",
    "\n",
    "\n",
    "# val acc 그래프\n",
    "plt.plot(epochs, rnn_val_acc, 'b', label='RNN Validation acc')\n",
    "plt.plot(epochs, cnn_val_acc, 'g', label='CNN Validation acc')\n",
    "plt.plot(epochs, pool_val_acc, 'r', label='Pool Validation acc')\n",
    "\n",
    "plt.title('Training and validation accuracy')\n",
    "plt.xlabel('Epochs')\n",
    "plt.ylabel('Accuracy')\n",
    "plt.legend()\n",
    "plt.show()\n",
    "\n",
    "# -> 학습이 엉망으로 되고 있다."
   ]
  },
  {
   "cell_type": "markdown",
   "id": "70aa1aa4",
   "metadata": {},
   "source": [
    "# 7. 학습된 Embedding 레이어 분석"
   ]
  },
  {
   "cell_type": "code",
   "execution_count": 123,
   "id": "6134b262",
   "metadata": {},
   "outputs": [
    {
     "name": "stdout",
     "output_type": "stream",
     "text": [
      "<keras.layers.embeddings.Embedding object at 0x7f980b8bb040>\n",
      "(10000, 100)\n"
     ]
    }
   ],
   "source": [
    "# Embedding layer는 layers의 0번째에 있다.\n",
    "print(simple_RNN.layers[0])\n",
    "# 가중치 가져오기\n",
    "weights = simple_RNN.layers[0].get_weights()[0]\n",
    "print(weights.shape)"
   ]
  },
  {
   "cell_type": "code",
   "execution_count": 124,
   "id": "98cdff2e",
   "metadata": {},
   "outputs": [],
   "source": [
    "# 가중치 저장하고 gensim으로 비슷한 단어 살펴보기\n",
    "# 학습한 Embedding 파라미터를 파일에 써서 저장합니다. \n",
    "word2vec_file_path = './model/rnn_model_weights.txt'\n",
    "f = open(word2vec_file_path, 'w')\n",
    "f.write('{} {}\\n'.format(vocab_size-4, word_vector_dim))  # 몇개의 벡터를 얼마 사이즈로 기재할지 타이틀을 씁니다.\n",
    "\n",
    "# 단어 개수(에서 특수문자 4개는 제외하고)만큼의 워드 벡터를 파일에 기록합니다. \n",
    "vectors = model.get_weights()[0]\n",
    "for i in range(4,vocab_size):\n",
    "    f.write('{} {}\\n'.format(index_to_word[i], ' '.join(map(str, list(vectors[i, :])))))\n",
    "f.close()"
   ]
  },
  {
   "cell_type": "code",
   "execution_count": 126,
   "id": "60f9a0b9",
   "metadata": {},
   "outputs": [
    {
     "data": {
      "text/plain": [
       "array([-0.00579693, -0.00767167,  0.03074935, -0.02743418,  0.00484618,\n",
       "       -0.04781045, -0.00610347,  0.03157982,  0.02447958, -0.04543347,\n",
       "        0.03825232, -0.03232204,  0.01317025, -0.01045215, -0.01551216,\n",
       "       -0.02905034,  0.03029131, -0.00016421,  0.02851553, -0.02597535,\n",
       "       -0.01242672, -0.00201576,  0.03841734, -0.0201232 ,  0.04485145,\n",
       "       -0.03185803, -0.01139367, -0.04934583, -0.02211673, -0.04965493,\n",
       "       -0.02044395,  0.01764483,  0.03143635,  0.03590501,  0.03827428,\n",
       "       -0.01059841, -0.02060935, -0.02452086, -0.00167962,  0.03398326,\n",
       "       -0.04869195, -0.00929575,  0.03188634,  0.04884313,  0.03476154,\n",
       "        0.03848692,  0.00336961, -0.03576645, -0.02762256, -0.01429828,\n",
       "       -0.00554092, -0.03548793, -0.02977213,  0.0396749 ,  0.02215109,\n",
       "        0.02128524,  0.03904383, -0.00205474, -0.01648048,  0.00101117,\n",
       "        0.04687654, -0.02564269,  0.01229508,  0.03225428,  0.01682856,\n",
       "        0.00070239, -0.0150065 ,  0.02422022, -0.01686587,  0.01297638,\n",
       "        0.01185922, -0.04750141,  0.02275279, -0.03885231,  0.0144073 ,\n",
       "       -0.00325497,  0.0453983 ,  0.04401049,  0.03394778,  0.01482091,\n",
       "        0.03810949, -0.04195128,  0.02888794, -0.0457655 , -0.02391708,\n",
       "       -0.00965565,  0.02170246,  0.03922469, -0.04651932,  0.00094492,\n",
       "        0.03232272, -0.02875147,  0.03203151, -0.03623668,  0.0118592 ,\n",
       "        0.01286576, -0.00977212,  0.00898951,  0.00589484, -0.01202857],\n",
       "      dtype=float32)"
      ]
     },
     "execution_count": 126,
     "metadata": {},
     "output_type": "execute_result"
    }
   ],
   "source": [
    "from gensim.models.keyedvectors import Word2VecKeyedVectors\n",
    "\n",
    "word_vectors = Word2VecKeyedVectors.load_word2vec_format(word2vec_file_path, binary=False)\n",
    "vector = word_vectors['교도소']\n",
    "vector"
   ]
  },
  {
   "cell_type": "code",
   "execution_count": 127,
   "id": "57b1475f",
   "metadata": {
    "scrolled": true
   },
   "outputs": [
    {
     "data": {
      "text/plain": [
       "[('주연', 0.38089698553085327),\n",
       " ('고현정', 0.3727678954601288),\n",
       " ('보너스', 0.3469025790691376),\n",
       " ('갓', 0.3366566300392151),\n",
       " ('채널', 0.33360081911087036),\n",
       " ('산드라블록', 0.3226437568664551),\n",
       " ('개밥', 0.3198124170303345),\n",
       " ('퇴화', 0.31340187788009644),\n",
       " ('But', 0.303157240152359),\n",
       " ('랍니다', 0.3028414249420166)]"
      ]
     },
     "execution_count": 127,
     "metadata": {},
     "output_type": "execute_result"
    }
   ],
   "source": [
    "word_vectors.similar_by_word(\"교도소\")\n",
    "\n",
    "# 역시 엉망이다 ㅋㅋ"
   ]
  },
  {
   "cell_type": "code",
   "execution_count": 149,
   "id": "37a720b6",
   "metadata": {},
   "outputs": [
    {
     "name": "stdout",
     "output_type": "stream",
     "text": [
      "교도소\n",
      "[('주연', 0.38089698553085327), ('고현정', 0.3727678954601288), ('보너스', 0.3469025790691376), ('갓', 0.3366566300392151), ('채널', 0.33360081911087036), ('산드라블록', 0.3226437568664551), ('개밥', 0.3198124170303345), ('퇴화', 0.31340187788009644), ('But', 0.303157240152359), ('랍니다', 0.3028414249420166)]\n",
      "더빙\n",
      "[('그래야', 0.34241682291030884), ('워', 0.33882102370262146), ('추기경', 0.3347889184951782), ('올레', 0.32557767629623413), ('퉷', 0.32005399465560913), ('무릎', 0.3188064396381378), ('똑똑', 0.31722190976142883), ('짬', 0.31142088770866394), ('현대', 0.3076752722263336), ('관광', 0.3067683279514313)]\n",
      "나\n",
      "[('오리엔탈리즘', 0.3447614908218384), ('니까요', 0.3191235363483429), ('아낌없', 0.31610965728759766), ('비명', 0.3008897602558136), ('존중', 0.2988235354423523), ('뭘까', 0.29570135474205017), ('해용', 0.29156824946403503), ('좋아하', 0.29026973247528076), ('국정원', 0.29026684165000916), ('인형', 0.28513234853744507)]\n",
      "사람\n",
      "[('티켓', 0.34574511647224426), ('하악', 0.3252317011356354), ('리얼', 0.3209957182407379), ('느낀다', 0.30824002623558044), ('나참', 0.3068434000015259), ('지효', 0.30621054768562317), ('허공', 0.29962027072906494), ('so', 0.29872894287109375), ('잔인', 0.29429441690444946), ('중단', 0.2942182123661041)]\n",
      "배우\n",
      "[('권력', 0.37494638562202454), ('눈물', 0.3737074136734009), ('할껄', 0.3562203049659729), ('활용', 0.3352610468864441), ('1', 0.3275756239891052), ('쾌감', 0.32413700222969055), ('저절로', 0.3200961947441101), ('완성', 0.31905338168144226), ('가위', 0.31877586245536804), ('돌아와', 0.31817880272865295)]\n",
      "끝\n",
      "[('뮤직', 0.3540470004081726), ('까말까', 0.35399752855300903), ('불패', 0.34735196828842163), ('ㅄ', 0.3461902141571045), ('쓰', 0.34555307030677795), ('붐', 0.3255002200603485), ('왕국', 0.3187260925769806), ('or', 0.3124412000179291), ('래서', 0.3106516897678375), ('초등학생', 0.30834922194480896)]\n",
      "시작\n",
      "[('오지', 0.37829816341400146), ('언젠가', 0.36525672674179077), ('!!!!!!!!!!!!!', 0.3384883999824524), ('박상민', 0.33077430725097656), ('정해', 0.32765328884124756), ('바뀐', 0.32709842920303345), ('혼합', 0.3244669735431671), ('난잡', 0.32246148586273193), ('통틀어', 0.3192897439002991), ('영회', 0.30923664569854736)]\n"
     ]
    }
   ],
   "source": [
    "# for 문으로 여러개 살펴보기\n",
    "test_words = ['교도소', '더빙', '나', '사람', '배우', '끝', '시작']\n",
    "for word in test_words:\n",
    "    print(word)\n",
    "    print(word_vectors.similar_by_word(word))"
   ]
  },
  {
   "cell_type": "markdown",
   "id": "b5a2ac24",
   "metadata": {},
   "source": [
    "# 8. 한국어 Word2Vec 임베이 활용하여 성능 개선"
   ]
  },
  {
   "cell_type": "code",
   "execution_count": 141,
   "id": "37e3a7a2",
   "metadata": {},
   "outputs": [
    {
     "data": {
      "text/plain": [
       "['ratings_test.txt',\n",
       " 'GoogleNews-vectors-negative300.bin.gz',\n",
       " 'word2vec_ko.model.trainables.syn1neg.npy',\n",
       " 'ratings_train.txt',\n",
       " 'word2vec_ko.model.wv.vectors.npy',\n",
       " 'word2vec_ko.model']"
      ]
     },
     "execution_count": 141,
     "metadata": {},
     "output_type": "execute_result"
    }
   ],
   "source": [
    "import os\n",
    "\n",
    "os.listdir('/aiffel/data/')"
   ]
  },
  {
   "cell_type": "code",
   "execution_count": 144,
   "id": "94e7c963",
   "metadata": {},
   "outputs": [],
   "source": [
    "pretrained_model = gensim.models.Word2Vec.load(word2vec_path)"
   ]
  },
  {
   "cell_type": "code",
   "execution_count": 147,
   "id": "85326435",
   "metadata": {},
   "outputs": [
    {
     "data": {
      "text/plain": [
       "[('마지막', 0.6325399875640869),\n",
       " ('결판', 0.5526015758514404),\n",
       " ('발목', 0.5465342402458191),\n",
       " ('산산조각', 0.5418900847434998),\n",
       " ('막바지', 0.5412753820419312),\n",
       " ('싫증', 0.5256820917129517),\n",
       " ('양쪽', 0.5253474116325378),\n",
       " ('무릎', 0.5246764421463013),\n",
       " ('후', 0.5051813721656799),\n",
       " ('이어진', 0.5038793087005615)]"
      ]
     },
     "execution_count": 147,
     "metadata": {},
     "output_type": "execute_result"
    }
   ],
   "source": [
    "pretrained_model.wv.similar_by_word('끝')"
   ]
  },
  {
   "cell_type": "code",
   "execution_count": 150,
   "id": "47ca1edc",
   "metadata": {},
   "outputs": [
    {
     "name": "stdout",
     "output_type": "stream",
     "text": [
      "교도소\n",
      "[('구치소', 0.8381893038749695), ('소년원', 0.8359003663063049), ('형무소', 0.7916594743728638), ('감옥', 0.7372303605079651), ('포로수용소', 0.7325578927993774), ('유치장', 0.7157076597213745), ('경찰서', 0.6967010498046875), ('독방', 0.6956222057342529), ('수용소', 0.6901729106903076), ('감호소', 0.6697366833686829)]\n",
      "더빙\n",
      "[('자막', 0.6808973550796509), ('성우진', 0.6686396598815918), ('나레이션', 0.6673980951309204), ('재편집', 0.6653221845626831), ('내레이션', 0.6415111422538757), ('샘플링', 0.6225515007972717), ('오리지널', 0.6173883676528931), ('리메이크', 0.5950139760971069), ('번안', 0.5751559138298035), ('재개봉', 0.572837769985199)]\n",
      "나\n",
      "[('든', 0.546347975730896), ('와', 0.5454912781715393), ('똥', 0.5381466150283813), ('항상', 0.5252891778945923), ('가', 0.5160491466522217), ('누에', 0.5154241919517517), ('목욕', 0.5139148235321045), ('성게', 0.5074856281280518), ('내', 0.5045832991600037), ('미역', 0.5039044618606567)]\n",
      "사람\n",
      "[('여인', 0.7292886972427368), ('젊은이', 0.7112639546394348), ('백성', 0.7031198740005493), ('짐승', 0.6843199133872986), ('어린아이', 0.6703060269355774), ('마음', 0.6562773585319519), ('서양인', 0.6533992886543274), ('노인', 0.6490586400032043), ('아랫사람', 0.6440817713737488), ('어른', 0.640587329864502)]\n",
      "배우\n",
      "[('가수', 0.7729029655456543), ('코미디언', 0.7728644609451294), ('만화가', 0.749615490436554), ('영화배우', 0.7441834211349487), ('여배우', 0.7411354184150696), ('연출가', 0.7396705746650696), ('극작가', 0.7209770679473877), ('삽화가', 0.7152643799781799), ('안무가', 0.7149248123168945), ('무용가', 0.7118033766746521)]\n",
      "끝\n",
      "[('마지막', 0.6325399875640869), ('결판', 0.5526015758514404), ('발목', 0.5465342402458191), ('산산조각', 0.5418900847434998), ('막바지', 0.5412753820419312), ('싫증', 0.5256820917129517), ('양쪽', 0.5253474116325378), ('무릎', 0.5246764421463013), ('후', 0.5051813721656799), ('이어진', 0.5038793087005615)]\n",
      "시작\n",
      "[('재개', 0.7113743424415588), ('개시', 0.6964776515960693), ('계속', 0.6593127846717834), ('중단', 0.6464443206787109), ('진행', 0.6105296611785889), ('마무리', 0.5996001958847046), ('실시', 0.5984620451927185), ('완료', 0.5883207321166992), ('전개', 0.5819582343101501), ('완성', 0.5794826745986938)]\n"
     ]
    }
   ],
   "source": [
    "# for 문으로 여러개 살펴보기\n",
    "test_words = ['교도소', '더빙', '나', '사람', '배우', '끝', '시작']\n",
    "for word in test_words:\n",
    "    print(word)\n",
    "    print(pretrained_model.wv.similar_by_word(word))"
   ]
  },
  {
   "cell_type": "code",
   "execution_count": 168,
   "id": "79ea0444",
   "metadata": {},
   "outputs": [],
   "source": [
    "vocab_size = len(word_to_index)    # 어휘 사전의 크기입니다(10,000개의 단어)\n",
    "word_vector_dim = pretrained_model.wv['끝'].shape[0]  # 워드 벡터의 차원수\n",
    "embedding_matrix = np.random.rand(vocab_size, word_vector_dim)\n",
    "\n",
    "# embedding_matrix에 Word2Vec 워드 벡터를 단어 하나씩마다 차례차례 카피한다.\n",
    "for i in range(4, vocab_size):\n",
    "    if index_to_word[i] in pretrained_model.wv.index_to_key:\n",
    "        embedding_matrix[i] = pretrained_model.wv[index_to_word[i]]"
   ]
  },
  {
   "cell_type": "code",
   "execution_count": 174,
   "id": "75c37818",
   "metadata": {},
   "outputs": [
    {
     "name": "stdout",
     "output_type": "stream",
     "text": [
      "Model: \"sequential_7\"\n",
      "_________________________________________________________________\n",
      "Layer (type)                 Output Shape              Param #   \n",
      "=================================================================\n",
      "embedding_7 (Embedding)      (None, 67, 100)           1000000   \n",
      "_________________________________________________________________\n",
      "conv1d_4 (Conv1D)            (None, 61, 16)            11216     \n",
      "_________________________________________________________________\n",
      "max_pooling1d_2 (MaxPooling1 (None, 12, 16)            0         \n",
      "_________________________________________________________________\n",
      "conv1d_5 (Conv1D)            (None, 6, 16)             1808      \n",
      "_________________________________________________________________\n",
      "global_max_pooling1d_3 (Glob (None, 16)                0         \n",
      "_________________________________________________________________\n",
      "dense_14 (Dense)             (None, 8)                 136       \n",
      "_________________________________________________________________\n",
      "dense_15 (Dense)             (None, 1)                 9         \n",
      "=================================================================\n",
      "Total params: 1,013,169\n",
      "Trainable params: 1,013,169\n",
      "Non-trainable params: 0\n",
      "_________________________________________________________________\n"
     ]
    }
   ],
   "source": [
    "from tensorflow.keras.initializers import Constant\n",
    "\n",
    "vocab_size = len(word_to_index)    # 어휘 사전의 크기입니다(10,000개의 단어)\n",
    "word_vector_dim = pretrained_model.wv['끝'].shape[0]  # 워드 벡터의 차원 수 \n",
    "\n",
    "# 모델 구성\n",
    "model = tf.keras.Sequential()\n",
    "model.add(tf.keras.layers.Embedding(vocab_size, \n",
    "                                 word_vector_dim, \n",
    "                                 embeddings_initializer=Constant(embedding_matrix),  # 카피한 임베딩을 여기서 활용\n",
    "                                 input_length=maxlen, \n",
    "                                 trainable=True))   # trainable을 True로 주면 Fine-tuning\n",
    "model.add(tf.keras.layers.Conv1D(16, 7, activation='relu'))\n",
    "model.add(tf.keras.layers.MaxPooling1D(5))\n",
    "model.add(tf.keras.layers.Conv1D(16, 7, activation='relu'))\n",
    "model.add(tf.keras.layers.GlobalMaxPooling1D())\n",
    "model.add(tf.keras.layers.Dense(8, activation='relu'))\n",
    "model.add(tf.keras.layers.Dense(1, activation='sigmoid')) \n",
    "\n",
    "model.summary()"
   ]
  },
  {
   "cell_type": "code",
   "execution_count": 176,
   "id": "1d2932bf",
   "metadata": {},
   "outputs": [
    {
     "name": "stdout",
     "output_type": "stream",
     "text": [
      "Epoch 1/20\n",
      "229/229 [==============================] - 2s 7ms/step - loss: 0.6219 - accuracy: 0.6382 - val_loss: 0.5323 - val_accuracy: 0.7361\n",
      "Epoch 2/20\n",
      "229/229 [==============================] - 1s 6ms/step - loss: 0.4876 - accuracy: 0.7663 - val_loss: 0.4654 - val_accuracy: 0.7812\n",
      "Epoch 3/20\n",
      "229/229 [==============================] - 1s 6ms/step - loss: 0.4251 - accuracy: 0.8061 - val_loss: 0.4280 - val_accuracy: 0.8032\n",
      "Epoch 4/20\n",
      "229/229 [==============================] - 1s 6ms/step - loss: 0.3832 - accuracy: 0.8296 - val_loss: 0.4033 - val_accuracy: 0.8155\n",
      "Epoch 5/20\n",
      "229/229 [==============================] - 1s 6ms/step - loss: 0.3547 - accuracy: 0.8448 - val_loss: 0.3921 - val_accuracy: 0.8226\n",
      "Epoch 6/20\n",
      "229/229 [==============================] - 1s 6ms/step - loss: 0.3313 - accuracy: 0.8565 - val_loss: 0.3878 - val_accuracy: 0.8256\n",
      "Epoch 7/20\n",
      "229/229 [==============================] - 1s 6ms/step - loss: 0.3107 - accuracy: 0.8681 - val_loss: 0.3877 - val_accuracy: 0.8267\n",
      "Epoch 8/20\n",
      "229/229 [==============================] - 1s 6ms/step - loss: 0.2963 - accuracy: 0.8761 - val_loss: 0.3814 - val_accuracy: 0.8308\n",
      "Epoch 9/20\n",
      "229/229 [==============================] - 1s 6ms/step - loss: 0.2814 - accuracy: 0.8822 - val_loss: 0.3883 - val_accuracy: 0.8296\n",
      "Epoch 10/20\n",
      "229/229 [==============================] - 1s 6ms/step - loss: 0.2686 - accuracy: 0.8891 - val_loss: 0.3859 - val_accuracy: 0.8326\n",
      "Epoch 11/20\n",
      "229/229 [==============================] - 2s 7ms/step - loss: 0.2555 - accuracy: 0.8959 - val_loss: 0.3985 - val_accuracy: 0.8327\n",
      "Epoch 12/20\n",
      "229/229 [==============================] - 2s 7ms/step - loss: 0.2439 - accuracy: 0.9010 - val_loss: 0.4093 - val_accuracy: 0.8262\n",
      "Epoch 13/20\n",
      "229/229 [==============================] - 1s 6ms/step - loss: 0.2341 - accuracy: 0.9063 - val_loss: 0.4085 - val_accuracy: 0.8314\n",
      "Epoch 14/20\n",
      "229/229 [==============================] - 1s 7ms/step - loss: 0.2215 - accuracy: 0.9127 - val_loss: 0.4315 - val_accuracy: 0.8298\n",
      "Epoch 15/20\n",
      "229/229 [==============================] - 1s 6ms/step - loss: 0.2109 - accuracy: 0.9179 - val_loss: 0.4402 - val_accuracy: 0.8288\n",
      "Epoch 16/20\n",
      "229/229 [==============================] - 1s 6ms/step - loss: 0.2006 - accuracy: 0.9229 - val_loss: 0.4445 - val_accuracy: 0.8293\n",
      "Epoch 17/20\n",
      "229/229 [==============================] - 1s 6ms/step - loss: 0.1914 - accuracy: 0.9272 - val_loss: 0.4579 - val_accuracy: 0.8269\n",
      "Epoch 18/20\n",
      "229/229 [==============================] - 2s 7ms/step - loss: 0.1810 - accuracy: 0.9326 - val_loss: 0.4651 - val_accuracy: 0.8268\n",
      "Epoch 19/20\n",
      "229/229 [==============================] - 1s 7ms/step - loss: 0.1718 - accuracy: 0.9368 - val_loss: 0.5109 - val_accuracy: 0.8238\n",
      "Epoch 20/20\n",
      "229/229 [==============================] - 2s 7ms/step - loss: 0.1625 - accuracy: 0.9406 - val_loss: 0.5332 - val_accuracy: 0.8207\n"
     ]
    }
   ],
   "source": [
    "# 학습의 진행\n",
    "model.compile(optimizer='adam',\n",
    "              loss='binary_crossentropy',\n",
    "              metrics=['accuracy'])\n",
    "              \n",
    "epochs=20  # 몇 epoch를 훈련하면 좋을지 결과를 보면서 바꾸어 봅시다. \n",
    "\n",
    "history = model.fit(X_tr,\n",
    "                    y_tr,\n",
    "                    epochs=epochs,\n",
    "                    batch_size=512,\n",
    "                    validation_data=(X_val, y_val),\n",
    "                    verbose=1)"
   ]
  },
  {
   "cell_type": "code",
   "execution_count": 177,
   "id": "f5a17c6a",
   "metadata": {},
   "outputs": [
    {
     "name": "stdout",
     "output_type": "stream",
     "text": [
      "1537/1537 - 3s - loss: 0.5397 - accuracy: 0.8225\n",
      "[0.5396722555160522, 0.8225481510162354]\n"
     ]
    }
   ],
   "source": [
    "# 테스트셋을 통한 모델 평가\n",
    "results = model.evaluate(X_ts,  y_test, verbose=2)\n",
    "\n",
    "print(results)"
   ]
  },
  {
   "cell_type": "code",
   "execution_count": 178,
   "id": "6bf1b704",
   "metadata": {},
   "outputs": [
    {
     "data": {
      "image/png": "[encoded data removed]",
      "text/plain": [
       "<Figure size 864x864 with 1 Axes>"
      ]
     },
     "metadata": {
      "needs_background": "light"
     },
     "output_type": "display_data"
    },
    {
     "data": {
      "image/png": "[encoded data removed]",
      "text/plain": [
       "<Figure size 864x864 with 1 Axes>"
      ]
     },
     "metadata": {
      "needs_background": "light"
     },
     "output_type": "display_data"
    }
   ],
   "source": [
    "history_dict = history.history\n",
    "\n",
    "acc = history_dict['accuracy']\n",
    "val_acc = history_dict['val_accuracy']\n",
    "\n",
    "loss = history_dict['loss']\n",
    "val_loss = history_dict['val_loss']\n",
    "\n",
    "epochs = range(1, len(acc) + 1)\n",
    "\n",
    "plt.figure(figsize=(12, 12))\n",
    "plt.subplot(2, 1, 1)\n",
    "# \"bo\"는 \"파란색 점\"입니다\n",
    "plt.plot(epochs, loss, 'bo', label='Training loss')\n",
    "# b는 \"파란 실선\"입니다\n",
    "plt.plot(epochs, val_loss, 'b', label='Validation loss')\n",
    "plt.title('Training and validation loss')\n",
    "plt.xlabel('Epochs')\n",
    "plt.ylabel('Loss')\n",
    "plt.legend()\n",
    "plt.show()\n",
    "\n",
    "plt.figure(figsize=(12, 12))\n",
    "plt.subplot(2, 1, 2)\n",
    "plt.plot(epochs, acc, 'bo', label='Training acc')\n",
    "plt.plot(epochs, val_acc, 'b', label='Validation acc')\n",
    "plt.title('Training and validation accuracy')\n",
    "plt.xlabel('Epochs')\n",
    "plt.ylabel('Accuracy')\n",
    "plt.legend()\n",
    "plt.show()\n",
    "\n",
    "# 전보단느 확실히 개선되었다. 그래도 여전히 엉망임."
   ]
  }
 ],
 "metadata": {
  "kernelspec": {
   "display_name": "Python 3 (ipykernel)",
   "language": "python",
   "name": "python3"
  },
  "language_info": {
   "codemirror_mode": {
    "name": "ipython",
    "version": 3
   },
   "file_extension": ".py",
   "mimetype": "text/x-python",
   "name": "python",
   "nbconvert_exporter": "python",
   "pygments_lexer": "ipython3",
   "version": "3.9.7"
  }
 },
 "nbformat": 4,
 "nbformat_minor": 5
}
